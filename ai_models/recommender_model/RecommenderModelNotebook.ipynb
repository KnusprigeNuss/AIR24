{
 "cells": [
  {
   "cell_type": "markdown",
   "metadata": {},
   "source": [
    "### Import Necessary Libraries"
   ]
  },
  {
   "cell_type": "code",
   "metadata": {
    "ExecuteTime": {
     "end_time": "2025-01-02T13:17:22.819314Z",
     "start_time": "2025-01-02T13:17:22.814Z"
    }
   },
   "source": [
    "import pandas as pd\n",
    "from sklearn.feature_extraction.text import TfidfVectorizer\n",
    "from sklearn.metrics.pairwise import cosine_similarity\n"
   ],
   "outputs": [],
   "execution_count": 17
  },
  {
   "cell_type": "markdown",
   "metadata": {},
   "source": [
    "### Initialization of Variables"
   ]
  },
  {
   "cell_type": "code",
   "metadata": {
    "ExecuteTime": {
     "end_time": "2025-01-02T13:17:22.954705Z",
     "start_time": "2025-01-02T13:17:22.871333Z"
    }
   },
   "source": [
    "drugs_db = pd.read_csv('../../data/drug-dataset/Medicine_Details.csv')\n",
    "\n",
    "# Synonyms\n",
    "medication_types_to_exclude = ['Drop'] # Exclude eye drops\n",
    "\n",
    "heart = ['heart', 'cardiovascular', 'pressure']\n",
    "alcohol = ['alcohol', 'drinking', 'alcoholic', 'liver']\n",
    "smoking = ['smoking', 'cigarette', 'nicotine', 'tobacco']\n",
    "stroke  = ['stroke', 'brain', 'paralysis', 'hemorrhage', 'clot', 'Dizziness', 'Headache', 'Nausea']\n",
    "physical_health = ['physical', 'health', 'exercise', 'workout', 'gym', 'fitness', 'fit']\n",
    "mental_health = ['mental', 'health', 'depression', 'anxiety', 'stress', 'psychological']\n",
    "diff_walking = ['difficulty', 'walking', 'walk', 'move', 'mobility', 'paralysis']\n",
    "diabetes = ['diabetes', 'sugar', 'insulin', 'glucose']\n",
    "bmi = ['bmi', 'body', 'mass', 'index', 'weight', 'obesity']\n",
    "generic_health = ['generic', 'health', 'overall', 'well-being', 'general']\n",
    "sleep_time = ['sleep', 'time', 'tired', 'fatigue', 'rest', 'nap']\n",
    "asthma = ['asthma', 'breathing', 'inhaler', 'wheezing', 'cough']\n",
    "kidney_disease = ['kidney', 'disease', 'renal', 'failure', 'dialysis', 'urine']\n",
    "skin_cancer = ['skin', 'cancer', 'melanoma', 'mole', 'sun', 'uv']\n",
    "cholesterol = ['cholesterol', 'hdl', 'ldl', 'triglycerides', 'fat']"
   ],
   "outputs": [],
   "execution_count": 18
  },
  {
   "cell_type": "markdown",
   "metadata": {},
   "source": [
    "### Load User Input"
   ]
  },
  {
   "cell_type": "code",
   "metadata": {
    "ExecuteTime": {
     "end_time": "2025-01-02T13:17:22.996622Z",
     "start_time": "2025-01-02T13:17:22.984553Z"
    }
   },
   "source": [
    "# Test user\n",
    "user_input = {\n",
    "    'HeartDisease': 'No',\n",
    "    'BMI': 23,\n",
    "    'Smoking': 'No',\n",
    "    'Alcohol': 'No',\n",
    "    'Stroke': 'No',\n",
    "    'PhysicalHealth': 10,\n",
    "    'MentalHealth': 10,\n",
    "    'DiffWalking': 1,\n",
    "    'Sex': 'Male',\n",
    "    'Age': 21,\n",
    "    'Diabetes': 'No',\n",
    "    'PhysicalActivity': 10,\n",
    "    'GenericHealth': 10,\n",
    "    'SleepTime': 8,\n",
    "    'Asthma': 'No',\n",
    "    'KidneyDisease': 'No',\n",
    "    'SkinCancer': 'No',\n",
    "    # 'Cholesterol': 200,\n",
    "    # 'BloodPressure': 120,\n",
    "    'Allergies': ['penicillin', 'aspirin', 'Diarrhea', 'Bupropion']  \n",
    "}\n",
    "\n",
    "# User to df\n",
    "user_df: pd.DataFrame = pd.DataFrame([user_input])\n"
   ],
   "outputs": [],
   "execution_count": 19
  },
  {
   "cell_type": "markdown",
   "metadata": {},
   "source": "### Define Health Conditions"
  },
  {
   "cell_type": "code",
   "metadata": {
    "ExecuteTime": {
     "end_time": "2025-01-02T13:17:23.086756Z",
     "start_time": "2025-01-02T13:17:23.072214Z"
    }
   },
   "source": [
    "# Filter conditions for dataset\n",
    "conditions = []\n",
    "if user_input['Smoking'] == 'Yes':\n",
    "    conditions.append('|'.join(smoking))\n",
    "if user_input['Stroke'] == 'Yes':\n",
    "    conditions.append('|'.join(stroke))\n",
    "if user_input['Alcohol'] == 'Yes':\n",
    "    conditions.append('|'.join(alcohol))\n",
    "if user_input['Diabetes'] == 'Yes':\n",
    "    conditions.append('|'.join(diabetes))\n",
    "if user_input['Asthma'] == 'Yes':\n",
    "    conditions.append('|'.join(asthma))\n",
    "if user_input['KidneyDisease'] == 'Yes':\n",
    "    conditions.append('|'.join(kidney_disease))\n",
    "if user_input['SkinCancer'] == 'Yes':\n",
    "    conditions.append('|'.join(skin_cancer))\n",
    "# if user_input['Cholesterol'] > 200:\n",
    "#     conditions.append('|'.join(cholesterol))\n",
    "if user_input['BMI'] > 25:\n",
    "    conditions.append('|'.join(bmi))\n",
    "if user_input['PhysicalHealth'] < 3:\n",
    "    conditions.append('|'.join(physical_health))\n",
    "if user_input['MentalHealth'] < 3:\n",
    "    conditions.append('|'.join(mental_health))\n",
    "if user_input['GenericHealth'] < 3:\n",
    "    conditions.append('|'.join(generic_health))\n",
    "if user_input['SleepTime'] < 7:\n",
    "    conditions.append('|'.join(sleep_time))\n",
    "if user_input['DiffWalking'] > 3:\n",
    "    conditions.append('|'.join(diff_walking))\n"
   ],
   "outputs": [],
   "execution_count": 20
  },
  {
   "cell_type": "markdown",
   "metadata": {},
   "source": [
    "### Filter Drug Database"
   ]
  },
  {
   "cell_type": "code",
   "metadata": {
    "ExecuteTime": {
     "end_time": "2025-01-02T13:17:23.292114Z",
     "start_time": "2025-01-02T13:17:23.206706Z"
    }
   },
   "source": [
    "# Filter dataset\n",
    "filtered_drugs_db = drugs_db[~drugs_db['Medicine Name'].str.contains('|'.join(medication_types_to_exclude), case=False, na=False)]\n",
    "\n",
    "filtered_drugs_db = filtered_drugs_db[filtered_drugs_db['Uses'].str.contains('|'.join(heart), case=False, na=False)]\n",
    "\n",
    "# Further filter based on conditions and heart-related side effects\n",
    "if conditions:\n",
    "    combined_conditions = '|'.join(conditions + heart)\n",
    "    filtered_drugs_db = filtered_drugs_db[~filtered_drugs_db['Side_effects'].str.contains(combined_conditions, case=False, na=False)]\n",
    "\n",
    "print(\"Filtered Drugs:\")\n",
    "print(filtered_drugs_db)\n"
   ],
   "outputs": [
    {
     "name": "stdout",
     "output_type": "stream",
     "text": [
      "Filtered Drugs:\n",
      "                     Medicine Name  \\\n",
      "18                  Arkamin Tablet   \n",
      "23                Aldactone Tablet   \n",
      "34              Axcer  90mg Tablet   \n",
      "59                Atorva 40 Tablet   \n",
      "65     Angispan - TR 2.5mg Capsule   \n",
      "...                            ...   \n",
      "11781              Zorem 5 Capsule   \n",
      "11792           Zolahart 40 Tablet   \n",
      "11804            Zilarta 80 Tablet   \n",
      "11818            Zilokem 40 Tablet   \n",
      "11820    Zilarta-CT 40/6.25 Tablet   \n",
      "\n",
      "                                             Composition  \\\n",
      "18                                    Clonidine (100mcg)   \n",
      "23                                 Spironolactone (25mg)   \n",
      "34                                     Ticagrelor (90mg)   \n",
      "59                                   Atorvastatin (40mg)   \n",
      "65                                 Nitroglycerin (2.5mg)   \n",
      "...                                                  ...   \n",
      "11781                                     Ramipril (5mg)   \n",
      "11792                        Azilsartan medoxomil (40mg)   \n",
      "11804                        Azilsartan medoxomil (80mg)   \n",
      "11818                        Azilsartan medoxomil (40mg)   \n",
      "11820  Azilsartan medoxomil (40mg) + Chlorthalidone (...   \n",
      "\n",
      "                                                    Uses  \\\n",
      "18       Treatment of Hypertension (high blood pressure)   \n",
      "23      Hypertension (high blood pressure) Edema Low ...   \n",
      "34                 Prevention of heart attack and stroke   \n",
      "59            High cholesterolPrevention of Heart attack   \n",
      "65        Treatment of Angina (heart-related chest pain)   \n",
      "...                                                  ...   \n",
      "11781  Treatment of Hypertension (high blood pressure...   \n",
      "11792   Hypertension (high blood pressure) Heart fail...   \n",
      "11804   Hypertension (high blood pressure) Heart fail...   \n",
      "11818   Hypertension (high blood pressure) Heart fail...   \n",
      "11820                 Hypertension (high blood pressure)   \n",
      "\n",
      "                                            Side_effects  \\\n",
      "18     Dryness in mouth Fatigue Dizziness Headache Na...   \n",
      "23     Nausea Vomiting Leg cramps Dizziness Drowsines...   \n",
      "34                               Bleeding Breathlessness   \n",
      "59     Dyspepsia Abdominal pain Indigestion Diarrhea ...   \n",
      "65     Blurred vision Decreased blood pressure Dizzin...   \n",
      "...                                                  ...   \n",
      "11781                         Dry cough Headache Fatigue   \n",
      "11792                   Dizziness Muscle damage Diarrhea   \n",
      "11804                   Dizziness Muscle damage Diarrhea   \n",
      "11818                   Dizziness Muscle damage Diarrhea   \n",
      "11820  Dizziness Tiredness Decreased potassium level ...   \n",
      "\n",
      "                                               Image URL  \\\n",
      "18     https://onemg.gumlet.io/l_watermark_346,w_480,...   \n",
      "23     https://onemg.gumlet.io/l_watermark_346,w_480,...   \n",
      "34     https://onemg.gumlet.io/l_watermark_346,w_480,...   \n",
      "59     https://onemg.gumlet.io/l_watermark_346,w_480,...   \n",
      "65     https://onemg.gumlet.io/l_watermark_346,w_480,...   \n",
      "...                                                  ...   \n",
      "11781  https://onemg.gumlet.io/l_watermark_346,w_480,...   \n",
      "11792  https://onemg.gumlet.io/l_watermark_346,w_480,...   \n",
      "11804  https://onemg.gumlet.io/l_watermark_346,w_480,...   \n",
      "11818  https://onemg.gumlet.io/l_watermark_346,w_480,...   \n",
      "11820  https://onemg.gumlet.io/l_watermark_346,w_480,...   \n",
      "\n",
      "                            Manufacturer  Excellent Review %  \\\n",
      "18           Torrent Pharmaceuticals Ltd                  33   \n",
      "23                 RPG Life Sciences Ltd                  27   \n",
      "34     Sun Pharmaceutical Industries Ltd                  43   \n",
      "59                          Zydus Cadila                  56   \n",
      "65                               USV Ltd                  36   \n",
      "...                                  ...                 ...   \n",
      "11781          Intas Pharmaceuticals Ltd                  67   \n",
      "11792                 Mankind Pharma Ltd                  50   \n",
      "11804                     Micro Labs Ltd                  33   \n",
      "11818             Alkem Laboratories Ltd                  25   \n",
      "11820                     Micro Labs Ltd                  67   \n",
      "\n",
      "       Average Review %  Poor Review %  \n",
      "18                   42             25  \n",
      "23                   45             28  \n",
      "34                   43             14  \n",
      "59                   36              8  \n",
      "65                   33             31  \n",
      "...                 ...            ...  \n",
      "11781                33              0  \n",
      "11792                39             11  \n",
      "11804                67              0  \n",
      "11818                50             25  \n",
      "11820                33              0  \n",
      "\n",
      "[1857 rows x 9 columns]\n"
     ]
    }
   ],
   "execution_count": 21
  },
  {
   "metadata": {},
   "cell_type": "markdown",
   "source": "### Exclusions"
  },
  {
   "metadata": {
    "ExecuteTime": {
     "end_time": "2025-01-02T13:17:23.363880Z",
     "start_time": "2025-01-02T13:17:23.327654Z"
    }
   },
   "cell_type": "code",
   "source": [
    "\n",
    "# Exclude words from Composition column\n",
    "allergies = user_input['Allergies']\n",
    "if allergies:\n",
    "    allergy_pattern = '|'.join(allergies)\n",
    "    filtered_drugs_db = filtered_drugs_db[~filtered_drugs_db['Composition'].str.contains(allergy_pattern, case=False, na=False)]\n",
    "\n",
    "# Exclude words from Side_effects column\n",
    "allergies = user_input['Allergies']\n",
    "if allergies:\n",
    "    allergy_pattern = '|'.join(allergies)\n",
    "    filtered_drugs_db = filtered_drugs_db[~filtered_drugs_db['Side_effects'].str.contains(allergy_pattern, case=False, na=False)]\n",
    "\n",
    "# User input to string\n",
    "user_conditions = ' '.join([f'{k}:{v}' for k, v in user_input.items()])\n",
    "print(user_conditions)"
   ],
   "outputs": [
    {
     "name": "stdout",
     "output_type": "stream",
     "text": [
      "HeartDisease:No BMI:23 Smoking:No Alcohol:No Stroke:No PhysicalHealth:10 MentalHealth:10 DiffWalking:1 Sex:Male Age:21 Diabetes:No PhysicalActivity:10 GenericHealth:10 SleepTime:8 Asthma:No KidneyDisease:No SkinCancer:No Allergies:['penicillin', 'aspirin', 'Diarrhea', 'Bupropion']\n"
     ]
    }
   ],
   "execution_count": 22
  },
  {
   "cell_type": "markdown",
   "metadata": {},
   "source": "### Feature Vectorization"
  },
  {
   "cell_type": "code",
   "metadata": {
    "ExecuteTime": {
     "end_time": "2025-01-02T13:17:23.453952Z",
     "start_time": "2025-01-02T13:17:23.425935Z"
    }
   },
   "source": [
    "# Vectorize the drug descriptions\n",
    "vectorizer = TfidfVectorizer()\n",
    "drug_vectors = vectorizer.fit_transform(filtered_drugs_db['Uses'])\n",
    "print(\"Drug Vectors:\")\n",
    "print(drug_vectors)\n",
    "\n",
    "# Vectorize the user conditions\n",
    "user_vector = vectorizer.transform([user_conditions])\n",
    "print(\"User Vectors:\")\n",
    "print(user_vector)"
   ],
   "outputs": [
    {
     "name": "stdout",
     "output_type": "stream",
     "text": [
      "Drug Vectors:\n",
      "<Compressed Sparse Row sparse matrix of dtype 'float64'\n",
      "\twith 7380 stored elements and shape (1005, 57)>\n",
      "  Coords\tValues\n",
      "  (0, 52)\t0.4163791262319044\n",
      "  (0, 38)\t0.3946015237701766\n",
      "  (0, 28)\t0.42922109260333396\n",
      "  (0, 26)\t0.35693418062583937\n",
      "  (0, 10)\t0.423842721443917\n",
      "  (0, 42)\t0.423842721443917\n",
      "  (1, 28)\t0.13040973107933\n",
      "  (1, 26)\t0.10844688509158124\n",
      "  (1, 10)\t0.12877562700422437\n",
      "  (1, 42)\t0.12877562700422437\n",
      "  (1, 18)\t0.39242860086058023\n",
      "  (1, 34)\t0.5402294988584887\n",
      "  (1, 40)\t0.6168651055101744\n",
      "  (1, 23)\t0.16057337415838563\n",
      "  (1, 20)\t0.29310708936856866\n",
      "  (2, 38)\t0.23844140516339143\n",
      "  (2, 23)\t0.3193504293049628\n",
      "  (2, 43)\t0.4204398550529352\n",
      "  (2, 6)\t0.4073868798714513\n",
      "  (2, 2)\t0.4878448865022383\n",
      "  (2, 49)\t0.5103279579953779\n",
      "  (3, 52)\t0.22529323441054436\n",
      "  (3, 38)\t0.213509871155257\n",
      "  (3, 23)\t0.2859590135679471\n",
      "  (3, 3)\t0.453289073331618\n",
      "  :\t:\n",
      "  (1002, 52)\t0.19401765039148997\n",
      "  (1002, 38)\t0.3677401467053902\n",
      "  (1002, 26)\t0.16631845043756363\n",
      "  (1002, 23)\t0.2462617045109306\n",
      "  (1002, 43)\t0.32421511245501056\n",
      "  (1002, 6)\t0.3141495305044021\n",
      "  (1002, 2)\t0.37619336710600654\n",
      "  (1002, 49)\t0.3935308089894944\n",
      "  (1002, 13)\t0.4884919324147027\n",
      "  (1003, 52)\t0.154026190610553\n",
      "  (1003, 38)\t0.43791078144672946\n",
      "  (1003, 28)\t0.15877666688452086\n",
      "  (1003, 26)\t0.13203642708514948\n",
      "  (1003, 10)\t0.1567871098457915\n",
      "  (1003, 42)\t0.1567871098457915\n",
      "  (1003, 23)\t0.3910031088670889\n",
      "  (1003, 20)\t0.35686421791526185\n",
      "  (1003, 43)\t0.2573869882923172\n",
      "  (1003, 6)\t0.2493961521956929\n",
      "  (1003, 2)\t0.2986513399753914\n",
      "  (1003, 50)\t0.4413925802881716\n",
      "  (1004, 28)\t0.5240181315395894\n",
      "  (1004, 26)\t0.4357660553905263\n",
      "  (1004, 10)\t0.5174519024929459\n",
      "  (1004, 42)\t0.5174519024929459\n",
      "User Vectors:\n",
      "<Compressed Sparse Row sparse matrix of dtype 'float64'\n",
      "\twith 1 stored elements and shape (1, 57)>\n",
      "  Coords\tValues\n",
      "  (0, 49)\t1.0\n"
     ]
    }
   ],
   "execution_count": 23
  },
  {
   "metadata": {},
   "cell_type": "markdown",
   "source": "### Cosine similarity"
  },
  {
   "metadata": {
    "ExecuteTime": {
     "end_time": "2025-01-02T13:17:23.514156Z",
     "start_time": "2025-01-02T13:17:23.506093Z"
    }
   },
   "cell_type": "code",
   "source": [
    "# Cosine sim\n",
    "similarity_scores = cosine_similarity(user_vector, drug_vectors).flatten()\n"
   ],
   "outputs": [],
   "execution_count": 24
  },
  {
   "cell_type": "markdown",
   "metadata": {},
   "source": "### Finalize Recommendations"
  },
  {
   "cell_type": "code",
   "metadata": {
    "ExecuteTime": {
     "end_time": "2025-01-02T13:17:23.596223Z",
     "start_time": "2025-01-02T13:17:23.580086Z"
    }
   },
   "source": [
    "# Recommend top 5 drugs\n",
    "top_indices = similarity_scores.argsort()[:5][::-1]\n",
    "recommended_drugs = filtered_drugs_db.iloc[top_indices]\n",
    "\n",
    "print(\"Recommended Drugs:\")\n",
    "for i in range(len(recommended_drugs)):\n",
    "    print(f\"{i+1}. {recommended_drugs.iloc[i]['Medicine Name']}\", \", \", f\"{recommended_drugs.iloc[i]['Uses']}\")\n",
    "\n",
    "print(recommended_drugs)"
   ],
   "outputs": [
    {
     "name": "stdout",
     "output_type": "stream",
     "text": [
      "Recommended Drugs:\n",
      "1. Xstan-AMH Tablet ,   Hypertension (high blood pressure)\n",
      "2. Xstan 20mg Tablet ,  Treatment of Hypertension (high blood pressure) Prevention of heart attack and strokeTreatment of Heart failure\n",
      "3. Xirtam H Tablet ,   Hypertension (high blood pressure)\n",
      "4. Aquazide 12.5 Tablet ,  Treatment of Hypertension (high blood pressure)Treatment of Edema\n",
      "5. Amlodac 5 Tablet ,  Treatment of Hypertension (high blood pressure)Prevention of Angina (heart-related chest pain)\n",
      "              Medicine Name  \\\n",
      "11359      Xstan-AMH Tablet   \n",
      "11383     Xstan 20mg Tablet   \n",
      "11389       Xirtam H Tablet   \n",
      "124    Aquazide 12.5 Tablet   \n",
      "135        Amlodac 5 Tablet   \n",
      "\n",
      "                                             Composition  \\\n",
      "11359  Telmisartan (40mg) + Amlodipine (5mg) + Hydroc...   \n",
      "11383                                 Telmisartan (20mg)   \n",
      "11389  Hydrochlorothiazide (12.5mg) + Olmesartan Medo...   \n",
      "124                         Hydrochlorothiazide (12.5mg)   \n",
      "135                                     Amlodipine (5mg)   \n",
      "\n",
      "                                                    Uses  \\\n",
      "11359                 Hypertension (high blood pressure)   \n",
      "11383  Treatment of Hypertension (high blood pressure...   \n",
      "11389                 Hypertension (high blood pressure)   \n",
      "124    Treatment of Hypertension (high blood pressure...   \n",
      "135    Treatment of Hypertension (high blood pressure...   \n",
      "\n",
      "                                            Side_effects  \\\n",
      "11359  Ankle swelling Dizziness Nausea Peripheral ede...   \n",
      "11383                     Hypotension low blood pressure   \n",
      "11389  Dizziness Weakness Headache Tiredness Edema sw...   \n",
      "124    Headache Nausea Altered blood lipid level Weak...   \n",
      "135    Headache Fatigue Nausea Abdominal pain Sleepiness   \n",
      "\n",
      "                                               Image URL  \\\n",
      "11359  https://onemg.gumlet.io/l_watermark_346,w_480,...   \n",
      "11383  https://onemg.gumlet.io/l_watermark_346,w_480,...   \n",
      "11389  https://onemg.gumlet.io/l_watermark_346,w_480,...   \n",
      "124    https://onemg.gumlet.io/l_watermark_346,w_480,...   \n",
      "135    https://onemg.gumlet.io/l_watermark_346,w_480,...   \n",
      "\n",
      "                            Manufacturer  Excellent Review %  \\\n",
      "11359        Blue Cross Laboratories Ltd                  44   \n",
      "11383        Blue Cross Laboratories Ltd                  33   \n",
      "11389         Bayer Zydus Pharma Pvt Ltd                  56   \n",
      "124    Sun Pharmaceutical Industries Ltd                  32   \n",
      "135                         Zydus Cadila                  55   \n",
      "\n",
      "       Average Review %  Poor Review %  \n",
      "11359                56              0  \n",
      "11383                67              0  \n",
      "11389                22             22  \n",
      "124                  38             30  \n",
      "135                  37              8  \n"
     ]
    }
   ],
   "execution_count": 25
  },
  {
   "metadata": {},
   "cell_type": "markdown",
   "source": "### Save everything for the HealthPredictorAndRecommender"
  },
  {
   "metadata": {
    "ExecuteTime": {
     "end_time": "2025-01-02T13:17:23.715337Z",
     "start_time": "2025-01-02T13:17:23.701815Z"
    }
   },
   "cell_type": "code",
   "source": [
    "# Python\n",
    "# Import necessary library for saving with pickle\n",
    "import pickle\n",
    "\n",
    "# Specify the file path to store all objects\n",
    "combined_path = \"recommender_model.pkl\"\n",
    "\n",
    "# Save all objects into a single file\n",
    "with open(combined_path, 'wb') as file:\n",
    "    pickle.dump({\n",
    "        \"vectorizer\": vectorizer,\n",
    "        \"filtered_drugs_db\": filtered_drugs_db,\n",
    "        \"drug_vectors\": drug_vectors\n",
    "    }, file)\n",
    "\n",
    "print(\"All objects have been successfully saved into one file!\")\n"
   ],
   "outputs": [
    {
     "name": "stdout",
     "output_type": "stream",
     "text": [
      "All objects have been successfully saved into one file!\n"
     ]
    }
   ],
   "execution_count": 26
  }
 ],
 "metadata": {
  "kernelspec": {
   "display_name": "Python 3",
   "language": "python",
   "name": "python3"
  },
  "language_info": {
   "codemirror_mode": {
    "name": "ipython",
    "version": 3
   },
   "file_extension": ".py",
   "mimetype": "text/x-python",
   "name": "python",
   "nbconvert_exporter": "python",
   "pygments_lexer": "ipython3",
   "version": "3.10.12"
  }
 },
 "nbformat": 4,
 "nbformat_minor": 2
}
