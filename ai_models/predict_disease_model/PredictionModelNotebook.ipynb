{
 "cells": [
  {
   "cell_type": "markdown",
   "id": "dd603ce74e5567f1",
   "metadata": {},
   "source": [
    "**Notebook Description**\n",
    "\n",
    "In this notebook, I start by reading a CSV file containing heart disease data. I then provide descriptive statistics and print the first and last five rows of the dataset to get a better understanding of the data. Finally, I prepare the data by selecting the prediction target, removing the target column from the features, and splitting the data into training and testing sets."
   ]
  },
  {
   "cell_type": "markdown",
   "id": "57c680fb3e013352",
   "metadata": {},
   "source": [
    "First we read the csv file."
   ]
  },
  {
   "cell_type": "code",
   "execution_count": 1,
   "id": "initial_id",
   "metadata": {
    "ExecuteTime": {
     "end_time": "2024-12-30T10:40:55.471809Z",
     "start_time": "2024-12-30T10:40:54.491301Z"
    }
   },
   "outputs": [],
   "source": [
    "import pandas as pd\n",
    "from sklearn.model_selection import train_test_split\n",
    "from sklearn.ensemble import RandomForestClassifier\n",
    "from sklearn.metrics import accuracy_score\n",
    "\n",
    "# Load the CSV file\n",
    "file_path = '../../data/personal-key-indicators-of-heart-disease/2020/heart_2020_cleaned.csv'\n",
    "data = pd.read_csv(file_path)"
   ]
  },
  {
   "cell_type": "markdown",
   "id": "47f6a5b09ef99a95",
   "metadata": {},
   "source": [
    "Then we use the .describe function to get an overview of our dataset."
   ]
  },
  {
   "cell_type": "code",
   "execution_count": 2,
   "id": "6bfdf5c6b5d93741",
   "metadata": {
    "ExecuteTime": {
     "end_time": "2024-12-30T10:40:55.559568Z",
     "start_time": "2024-12-30T10:40:55.495928Z"
    }
   },
   "outputs": [
    {
     "name": "stdout",
     "output_type": "stream",
     "text": [
      "                 BMI  PhysicalHealth   MentalHealth      SleepTime\n",
      "count  319795.000000    319795.00000  319795.000000  319795.000000\n",
      "mean       28.325399         3.37171       3.898366       7.097075\n",
      "std         6.356100         7.95085       7.955235       1.436007\n",
      "min        12.020000         0.00000       0.000000       1.000000\n",
      "25%        24.030000         0.00000       0.000000       6.000000\n",
      "50%        27.340000         0.00000       0.000000       7.000000\n",
      "75%        31.420000         2.00000       3.000000       8.000000\n",
      "max        94.850000        30.00000      30.000000      24.000000\n"
     ]
    }
   ],
   "source": [
    "\n",
    "# Get the descriptive statistics\n",
    "description = data.describe()\n",
    "\n",
    "# Print the description\n",
    "print(description)"
   ]
  },
  {
   "cell_type": "markdown",
   "id": "89ccbedc1f46ca06",
   "metadata": {},
   "source": [
    "The '.head' prints the first five rows and '.tail' prints the last 5 rows.\n",
    "We do this to get a better understanding of our data.\n"
   ]
  },
  {
   "cell_type": "code",
   "execution_count": 3,
   "id": "b8534ec301047c4",
   "metadata": {
    "ExecuteTime": {
     "end_time": "2024-12-30T10:40:55.732879Z",
     "start_time": "2024-12-30T10:40:55.658685Z"
    }
   },
   "outputs": [
    {
     "name": "stdout",
     "output_type": "stream",
     "text": [
      "  HeartDisease    BMI Smoking AlcoholDrinking Stroke  PhysicalHealth  \\\n",
      "0           No  16.60     Yes              No     No             3.0   \n",
      "1           No  20.34      No              No    Yes             0.0   \n",
      "2           No  26.58     Yes              No     No            20.0   \n",
      "3           No  24.21      No              No     No             0.0   \n",
      "4           No  23.71      No              No     No            28.0   \n",
      "\n",
      "   MentalHealth DiffWalking     Sex  AgeCategory   Race Diabetic  \\\n",
      "0          30.0          No  Female        55-59  White      Yes   \n",
      "1           0.0          No  Female  80 or older  White       No   \n",
      "2          30.0          No    Male        65-69  White      Yes   \n",
      "3           0.0          No  Female        75-79  White       No   \n",
      "4           0.0         Yes  Female        40-44  White       No   \n",
      "\n",
      "  PhysicalActivity  GenHealth  SleepTime Asthma KidneyDisease SkinCancer  \n",
      "0              Yes  Very good        5.0    Yes            No        Yes  \n",
      "1              Yes  Very good        7.0     No            No         No  \n",
      "2              Yes       Fair        8.0    Yes            No         No  \n",
      "3               No       Good        6.0     No            No        Yes  \n",
      "4              Yes  Very good        8.0     No            No         No  \n"
     ]
    }
   ],
   "source": [
    "print(data.head())"
   ]
  },
  {
   "cell_type": "code",
   "execution_count": 4,
   "id": "a30e615ee1d9a89b",
   "metadata": {
    "ExecuteTime": {
     "end_time": "2024-12-30T10:40:55.945256Z",
     "start_time": "2024-12-30T10:40:55.839143Z"
    }
   },
   "outputs": [
    {
     "name": "stdout",
     "output_type": "stream",
     "text": [
      "       HeartDisease    BMI Smoking AlcoholDrinking Stroke  PhysicalHealth  \\\n",
      "319790          Yes  27.41     Yes              No     No             7.0   \n",
      "319791           No  29.84     Yes              No     No             0.0   \n",
      "319792           No  24.24      No              No     No             0.0   \n",
      "319793           No  32.81      No              No     No             0.0   \n",
      "319794           No  46.56      No              No     No             0.0   \n",
      "\n",
      "        MentalHealth DiffWalking     Sex  AgeCategory      Race Diabetic  \\\n",
      "319790           0.0         Yes    Male        60-64  Hispanic      Yes   \n",
      "319791           0.0          No    Male        35-39  Hispanic       No   \n",
      "319792           0.0          No  Female        45-49  Hispanic       No   \n",
      "319793           0.0          No  Female        25-29  Hispanic       No   \n",
      "319794           0.0          No  Female  80 or older  Hispanic       No   \n",
      "\n",
      "       PhysicalActivity  GenHealth  SleepTime Asthma KidneyDisease SkinCancer  \n",
      "319790               No       Fair        6.0    Yes            No         No  \n",
      "319791              Yes  Very good        5.0    Yes            No         No  \n",
      "319792              Yes       Good        6.0     No            No         No  \n",
      "319793               No       Good       12.0     No            No         No  \n",
      "319794              Yes       Good        8.0     No            No         No  \n"
     ]
    }
   ],
   "source": [
    "print(data.tail())"
   ]
  },
  {
   "cell_type": "markdown",
   "id": "aed659b8b2725247",
   "metadata": {},
   "source": [
    "The next thing we want to do is select the prediction target. By convention, this is typically named **y**."
   ]
  },
  {
   "cell_type": "code",
   "execution_count": 5,
   "id": "dee069cd9a7fb284",
   "metadata": {
    "ExecuteTime": {
     "end_time": "2024-12-30T10:40:56.280660Z",
     "start_time": "2024-12-30T10:40:56.178815Z"
    }
   },
   "outputs": [],
   "source": [
    "Y = data['HeartDisease'].apply(lambda x: 1 if x == 'Yes' else 0)"
   ]
  },
  {
   "cell_type": "markdown",
   "id": "984f8ea9fb2138",
   "metadata": {},
   "source": [
    "Now to the features. First we get rid of the 'HearDisease' column, since we already chose that as our prediction target. The next step would be to choose features from the remaining columns."
   ]
  },
  {
   "cell_type": "code",
   "execution_count": 6,
   "id": "aa4d0dda687f0857",
   "metadata": {
    "ExecuteTime": {
     "end_time": "2024-12-30T10:40:56.436406Z",
     "start_time": "2024-12-30T10:40:56.349048Z"
    }
   },
   "outputs": [],
   "source": [
    "# Prepare the data\n",
    "X = data.drop(columns=['HeartDisease'])"
   ]
  },
  {
   "cell_type": "markdown",
   "id": "1a090c82cb25eda",
   "metadata": {},
   "source": [
    "Now we split the training data into the train and test data. We use the common approach of using 80% as train data."
   ]
  },
  {
   "cell_type": "code",
   "execution_count": 7,
   "id": "511981ea7fb94187",
   "metadata": {
    "ExecuteTime": {
     "end_time": "2024-12-30T10:40:56.628289Z",
     "start_time": "2024-12-30T10:40:56.509607Z"
    }
   },
   "outputs": [],
   "source": [
    "\n",
    "# Split the data\n",
    "X_train, X_test, Y_train, Y_test = train_test_split(X, Y, test_size=0.2)"
   ]
  },
  {
   "cell_type": "markdown",
   "id": "9c1046a968a1c3bc",
   "metadata": {},
   "source": [
    "We need to convert all categorical variables to floats in order to process it further with sklearn. First we print all the categorical variables:"
   ]
  },
  {
   "cell_type": "code",
   "execution_count": 8,
   "id": "3413d6321d02ad5c",
   "metadata": {
    "ExecuteTime": {
     "end_time": "2024-12-30T10:40:56.712753Z",
     "start_time": "2024-12-30T10:40:56.707173Z"
    }
   },
   "outputs": [
    {
     "name": "stdout",
     "output_type": "stream",
     "text": [
      "Categorical variables:\n",
      "['Smoking', 'AlcoholDrinking', 'Stroke', 'DiffWalking', 'Sex', 'AgeCategory', 'Race', 'Diabetic', 'PhysicalActivity', 'GenHealth', 'Asthma', 'KidneyDisease', 'SkinCancer']\n"
     ]
    }
   ],
   "source": [
    "# Get list of categorical variables\n",
    "s = (X_train.dtypes == 'object')\n",
    "object_cols = list(s[s].index)\n",
    "\n",
    "print(\"Categorical variables:\")\n",
    "print(object_cols)\n"
   ]
  },
  {
   "cell_type": "markdown",
   "id": "8da861ffe45e7018",
   "metadata": {},
   "source": [
    "After that we substitute with ordinal encoding."
   ]
  },
  {
   "cell_type": "code",
   "execution_count": 9,
   "id": "a9c1183a22305be4",
   "metadata": {
    "ExecuteTime": {
     "end_time": "2024-12-30T10:40:58.210273Z",
     "start_time": "2024-12-30T10:40:56.813120Z"
    }
   },
   "outputs": [],
   "source": [
    "from sklearn.preprocessing import OrdinalEncoder\n",
    "\n",
    "# Make copy to avoid changing original data \n",
    "ordinal_X_train = X_train.copy()\n",
    "ordinal_X_test = X_test.copy()\n",
    "\n",
    "# Apply ordinal encoder to each column with categorical data\n",
    "ordinal_encoder = OrdinalEncoder()\n",
    "ordinal_X_train[object_cols] = ordinal_encoder.fit_transform(X_train[object_cols])\n",
    "ordinal_X_test[object_cols] = ordinal_encoder.transform(X_test[object_cols])"
   ]
  },
  {
   "cell_type": "markdown",
   "id": "5621a4d98171159f",
   "metadata": {},
   "source": [
    "In the context of a RandomForestClassifier, 100 estimators mean that the model will utilize 100 individual decision trees to form a 'forest'. Each tree contributes to the final prediction by voting, and the majority vote becomes the overall prediction. This helps improve the accuracy and robustness of the model."
   ]
  },
  {
   "cell_type": "code",
   "execution_count": 10,
   "id": "6b663fe3a45e13e9",
   "metadata": {
    "ExecuteTime": {
     "end_time": "2024-12-30T10:40:58.309442Z",
     "start_time": "2024-12-30T10:40:58.304099Z"
    }
   },
   "outputs": [],
   "source": [
    "# Initialize the model\n",
    "model = RandomForestClassifier(n_estimators=500)"
   ]
  },
  {
   "cell_type": "markdown",
   "id": "50d3deef1141d6f5",
   "metadata": {},
   "source": [
    "Training the model takes a significant longer time then all the other cells. For example, on my laptop it takes ~35 seconds."
   ]
  },
  {
   "cell_type": "code",
   "execution_count": 11,
   "id": "a46bda205394c73e",
   "metadata": {
    "ExecuteTime": {
     "end_time": "2024-12-30T10:41:33.580876Z",
     "start_time": "2024-12-30T10:40:58.491239Z"
    }
   },
   "outputs": [
    {
     "name": "stdout",
     "output_type": "stream",
     "text": [
      "Training took 169.2 seconds\n"
     ]
    }
   ],
   "source": [
    "# Train the model\n",
    "import time\n",
    "startTime = time.time()\n",
    "model.fit(ordinal_X_train, Y_train)\n",
    "endTime = time.time()\n",
    "print(f'Training took {endTime - startTime:.1f} seconds')"
   ]
  },
  {
   "cell_type": "code",
   "execution_count": 12,
   "id": "577dc30d2ce21b6",
   "metadata": {
    "ExecuteTime": {
     "end_time": "2024-12-30T10:41:37.793083Z",
     "start_time": "2024-12-30T10:41:33.632525Z"
    }
   },
   "outputs": [],
   "source": [
    "# Save the model for the backend serve to use\n",
    "import pickle\n",
    "\n",
    "model_pkl_file = \"predict_disease_model.pkl\"  \n",
    "\n",
    "with open(model_pkl_file, 'wb') as file:  \n",
    "    pickle.dump(model, file)"
   ]
  },
  {
   "cell_type": "code",
   "execution_count": 13,
   "id": "a5c7cd05",
   "metadata": {
    "ExecuteTime": {
     "end_time": "2024-12-30T10:41:37.793083Z",
     "start_time": "2024-12-30T10:41:33.632525Z"
    }
   },
   "outputs": [],
   "source": [
    "# Save the encoder for the backend serve to use\n",
    "\n",
    "encoder_pkl_file = \"predict_model_encoder.pkl\"  \n",
    "\n",
    "with open(encoder_pkl_file, 'wb') as file:  \n",
    "    pickle.dump(ordinal_encoder, file)"
   ]
  },
  {
   "cell_type": "code",
   "execution_count": 14,
   "id": "1e7bd418613bce14",
   "metadata": {
    "ExecuteTime": {
     "end_time": "2024-12-30T10:41:39.469611Z",
     "start_time": "2024-12-30T10:41:37.885249Z"
    }
   },
   "outputs": [],
   "source": [
    "# Make predictions\n",
    "predictions = model.predict(ordinal_X_test)"
   ]
  },
  {
   "cell_type": "code",
   "execution_count": 15,
   "id": "ef07a48bacff0b4e",
   "metadata": {
    "ExecuteTime": {
     "end_time": "2024-12-30T10:56:25.026594Z",
     "start_time": "2024-12-30T10:56:24.989801Z"
    }
   },
   "outputs": [
    {
     "name": "stdout",
     "output_type": "stream",
     "text": [
      "Predicted Heart Disease Status: 0\n"
     ]
    }
   ],
   "source": [
    "# Make single prediction\n",
    "\n",
    "person_data = { \"AgeCategory\": \"80 or older\", \"AlcoholDrinking\": \"No\", \"Asthma\": \"Yes\", \"BMI\": 47, \"Diabetic\": \"Yes\", \"DiffWalking\": \"Yes\", \"GenHealth\": \"Poor\", \"KidneyDisease\": \"Yes\", \"MentalHealth\": 20, \"PhysicalActivity\": \"Yes\", \"PhysicalHealth\": 20, \"Race\": \"Asian\", \"Sex\": \"Male\", \"SkinCancer\": \"No\", \"SleepTime\": 4, \"Smoking\": \"Yes\", \"Stroke\": \"Yes\" }\n",
    "\n",
    "# Convert the dictionary into a DataFrame\n",
    "person_dataframe = pd.DataFrame([person_data])\n",
    "\n",
    "s = (person_dataframe.dtypes == 'object')\n",
    "object_cols = list(s[s].index)\n",
    "\n",
    "ordinal_person_dataframe = person_dataframe.copy()\n",
    "\n",
    "# Encode categorical data\n",
    "ordinal_person_dataframe[object_cols] = ordinal_encoder.fit_transform(person_dataframe[object_cols])\n",
    "\n",
    "# Reorder the dataframe to match the feature names to those that were passed during fit.\n",
    "# Feature names must be in the same order as they were in fit\n",
    "ordinal_person_dataframe = ordinal_person_dataframe[[\n",
    "    \"BMI\",\n",
    "    \"Smoking\",\n",
    "    \"AlcoholDrinking\",\n",
    "    \"Stroke\",\n",
    "    \"PhysicalHealth\",\n",
    "    \"MentalHealth\",\n",
    "    \"DiffWalking\",\n",
    "    \"Sex\",\n",
    "    \"AgeCategory\",\n",
    "    \"Race\",\n",
    "    \"Diabetic\",\n",
    "    \"PhysicalActivity\",\n",
    "    \"GenHealth\",\n",
    "    \"SleepTime\",\n",
    "    \"Asthma\",\n",
    "    \"KidneyDisease\",\n",
    "    \"SkinCancer\"\n",
    "]]\n",
    "\n",
    "# Utilizing model to predict HeartDisease based on person_data\n",
    "HeartDisease_prediction = model.predict(ordinal_person_dataframe)\n",
    "\n",
    "# Output the prediction\n",
    "print(\"Predicted Heart Disease Status:\", HeartDisease_prediction[0])"
   ]
  },
  {
   "cell_type": "markdown",
   "id": "422b5f0e352c9bae",
   "metadata": {},
   "source": [
    "The `accuracy_score` function is from the `sklearn.metrics` module of the `scikit-learn` library. It calculates the accuracy of a set of predictions by comparing the predicted values with the actual values and returning the proportion of correctly predicted instances."
   ]
  },
  {
   "cell_type": "code",
   "execution_count": 16,
   "id": "df052475c8ace5d0",
   "metadata": {
    "ExecuteTime": {
     "end_time": "2024-12-30T10:41:39.840518181Z",
     "start_time": "2024-12-30T10:08:25.340206Z"
    }
   },
   "outputs": [
    {
     "name": "stdout",
     "output_type": "stream",
     "text": [
      "Accuracy: The model correctly predicted 90.60% of the instances.\n"
     ]
    }
   ],
   "source": [
    "# Evaluate the model\n",
    "accuracy = accuracy_score(Y_test, predictions)\n",
    "print(f'Accuracy: The model correctly predicted {accuracy * 100:.2f}% of the instances.')"
   ]
  },
  {
   "cell_type": "code",
   "execution_count": null,
   "id": "10d7210d",
   "metadata": {},
   "outputs": [],
   "source": []
  }
 ],
 "metadata": {
  "kernelspec": {
   "display_name": "Python 3 (ipykernel)",
   "language": "python",
   "name": "python3"
  },
  "language_info": {
   "codemirror_mode": {
    "name": "ipython",
    "version": 3
   },
   "file_extension": ".py",
   "mimetype": "text/x-python",
   "name": "python",
   "nbconvert_exporter": "python",
   "pygments_lexer": "ipython3",
   "version": "3.12.3"
  }
 },
 "nbformat": 4,
 "nbformat_minor": 5
}
